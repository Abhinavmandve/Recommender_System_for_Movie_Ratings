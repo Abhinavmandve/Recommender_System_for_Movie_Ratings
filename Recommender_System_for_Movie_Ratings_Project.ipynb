{
  "nbformat": 4,
  "nbformat_minor": 0,
  "metadata": {
    "colab": {
      "provenance": [],
      "authorship_tag": "ABX9TyO6CeBhZOZksS+JRQ4+D62u",
      "include_colab_link": true
    },
    "kernelspec": {
      "name": "python3",
      "display_name": "Python 3"
    },
    "language_info": {
      "name": "python"
    }
  },
  "cells": [
    {
      "cell_type": "markdown",
      "metadata": {
        "id": "view-in-github",
        "colab_type": "text"
      },
      "source": [
        "<a href=\"https://colab.research.google.com/github/Abhinavmandve/Recommender_System_for_Movie_Ratings/blob/main/Recommender_System_for_Movie_Ratings_Project.ipynb\" target=\"_parent\"><img src=\"https://colab.research.google.com/assets/colab-badge.svg\" alt=\"Open In Colab\"/></a>"
      ]
    },
    {
      "cell_type": "code",
      "execution_count": 3,
      "metadata": {
        "colab": {
          "base_uri": "https://localhost:8080/"
        },
        "id": "cbFj-OP9kO-8",
        "outputId": "cf7979b0-8c10-453e-bfaf-3e8d9294c162"
      },
      "outputs": [
        {
          "output_type": "stream",
          "name": "stdout",
          "text": [
            "Looking in indexes: https://pypi.org/simple, https://us-python.pkg.dev/colab-wheels/public/simple/\n",
            "Collecting scikit-surprise\n",
            "  Downloading scikit-surprise-1.1.3.tar.gz (771 kB)\n",
            "\u001b[2K     \u001b[90m━━━━━━━━━━━━━━━━━━━━━━━━━━━━━━━━━━━━━━\u001b[0m \u001b[32m772.0/772.0 kB\u001b[0m \u001b[31m11.3 MB/s\u001b[0m eta \u001b[36m0:00:00\u001b[0m\n",
            "\u001b[?25h  Preparing metadata (setup.py) ... \u001b[?25l\u001b[?25hdone\n",
            "Requirement already satisfied: joblib>=1.0.0 in /usr/local/lib/python3.9/dist-packages (from scikit-surprise) (1.1.1)\n",
            "Requirement already satisfied: numpy>=1.17.3 in /usr/local/lib/python3.9/dist-packages (from scikit-surprise) (1.22.4)\n",
            "Requirement already satisfied: scipy>=1.3.2 in /usr/local/lib/python3.9/dist-packages (from scikit-surprise) (1.10.1)\n",
            "Building wheels for collected packages: scikit-surprise\n",
            "  Building wheel for scikit-surprise (setup.py) ... \u001b[?25l\u001b[?25hdone\n",
            "  Created wheel for scikit-surprise: filename=scikit_surprise-1.1.3-cp39-cp39-linux_x86_64.whl size=3195818 sha256=534b821bda619a23ce3430eacd45a62a8e5b24f2fddda917b685469485bab459\n",
            "  Stored in directory: /root/.cache/pip/wheels/c6/3a/46/9b17b3512bdf283c6cb84f59929cdd5199d4e754d596d22784\n",
            "Successfully built scikit-surprise\n",
            "Installing collected packages: scikit-surprise\n",
            "Successfully installed scikit-surprise-1.1.3\n"
          ]
        }
      ],
      "source": [
        "# Import required libraries\n",
        "!pip install scikit-surprise\n",
        "import pandas as pd\n",
        "from surprise import Dataset, Reader, SVD\n",
        "from surprise.model_selection import train_test_split\n",
        "from surprise import accuracy"
      ]
    },
    {
      "cell_type": "code",
      "source": [
        "# Load the data from the MovieLens dataset\n",
        "url = \"https://files.grouplens.org/datasets/movielens/ml-100k/u.data\"\n",
        "names = ['user_id', 'item_id', 'rating', 'timestamp']\n",
        "df = pd.read_csv(url, sep='\\t', names=names)"
      ],
      "metadata": {
        "id": "B6F_Vo2ElTiq"
      },
      "execution_count": 4,
      "outputs": []
    },
    {
      "cell_type": "code",
      "source": [
        "# Filter out users and movies with fewer ratings\n",
        "min_movie_ratings = 50\n",
        "min_user_ratings = 50\n",
        "df = df.groupby('item_id').filter(lambda x: len(x) >= min_movie_ratings)\n",
        "df = df.groupby('user_id').filter(lambda x: len(x) >= min_user_ratings)"
      ],
      "metadata": {
        "id": "cealpMoFlW48"
      },
      "execution_count": 5,
      "outputs": []
    },
    {
      "cell_type": "code",
      "source": [
        "# Create a reader object and load the data into Surprise dataset\n",
        "reader = Reader(rating_scale=(1, 5))\n",
        "data = Dataset.load_from_df(df[['user_id', 'item_id', 'rating']], reader)"
      ],
      "metadata": {
        "id": "eTGvWNqrmPYC"
      },
      "execution_count": 6,
      "outputs": []
    },
    {
      "cell_type": "code",
      "source": [
        "# Split the data into train and test sets\n",
        "trainset, testset = train_test_split(data, test_size=0.25)"
      ],
      "metadata": {
        "id": "YxFZG-OBmWqb"
      },
      "execution_count": 7,
      "outputs": []
    },
    {
      "cell_type": "code",
      "source": [
        "# Build a collaborative filtering model using SVD\n",
        "model = SVD(n_factors=100, biased=True, random_state=42)"
      ],
      "metadata": {
        "id": "TYB2NBDVmW11"
      },
      "execution_count": 8,
      "outputs": []
    },
    {
      "cell_type": "code",
      "source": [
        "# Train the model using the train set\n",
        "model.fit(trainset)"
      ],
      "metadata": {
        "colab": {
          "base_uri": "https://localhost:8080/"
        },
        "id": "cbT2Eib3mdLk",
        "outputId": "6cd19189-3fe8-4106-fb89-9017f4dd68bb"
      },
      "execution_count": 9,
      "outputs": [
        {
          "output_type": "execute_result",
          "data": {
            "text/plain": [
              "<surprise.prediction_algorithms.matrix_factorization.SVD at 0x7f1664594730>"
            ]
          },
          "metadata": {},
          "execution_count": 9
        }
      ]
    },
    {
      "cell_type": "code",
      "source": [
        "# Test the model using the test set\n",
        "predictions = model.test(testset)"
      ],
      "metadata": {
        "id": "Aj06R198mfuk"
      },
      "execution_count": 10,
      "outputs": []
    },
    {
      "cell_type": "code",
      "source": [
        "# Evaluate the model using RMSE and other metrics\n",
        "accuracy.rmse(predictions)"
      ],
      "metadata": {
        "colab": {
          "base_uri": "https://localhost:8080/"
        },
        "id": "-XxKlqBomikG",
        "outputId": "ed40c70c-a9e5-474a-ba6d-3711f90ae12a"
      },
      "execution_count": 11,
      "outputs": [
        {
          "output_type": "stream",
          "name": "stdout",
          "text": [
            "RMSE: 0.9079\n"
          ]
        },
        {
          "output_type": "execute_result",
          "data": {
            "text/plain": [
              "0.9078675233991291"
            ]
          },
          "metadata": {},
          "execution_count": 11
        }
      ]
    },
    {
      "cell_type": "markdown",
      "source": [
        "#get_recommendation function"
      ],
      "metadata": {
        "id": "b6DjPWv_neEd"
      }
    },
    {
      "cell_type": "code",
      "source": [
        "# Load the data from the MovieLens dataset\n",
        "url = \"https://files.grouplens.org/datasets/movielens/ml-100k/u.data\"\n",
        "names = ['user_id', 'item_id', 'rating', 'timestamp']\n",
        "df = pd.read_csv(url, sep='\\t', names=names)"
      ],
      "metadata": {
        "id": "KAWKM5NGnmbX"
      },
      "execution_count": 12,
      "outputs": []
    },
    {
      "cell_type": "code",
      "source": [
        "# Filter out users and movies with fewer ratings\n",
        "min_movie_ratings = 50\n",
        "min_user_ratings = 50\n",
        "df = df.groupby('item_id').filter(lambda x: len(x) >= min_movie_ratings)\n",
        "df = df.groupby('user_id').filter(lambda x: len(x) >= min_user_ratings)\n",
        "\n",
        "# Create a reader object and load the data into Surprise dataset\n",
        "reader = Reader(rating_scale=(1, 5))\n",
        "data = Dataset.load_from_df(df[['user_id', 'item_id', 'rating']], reader)"
      ],
      "metadata": {
        "id": "hxs7qfLPnrh8"
      },
      "execution_count": 13,
      "outputs": []
    },
    {
      "cell_type": "code",
      "source": [
        "# Split the data into train and test sets\n",
        "trainset, testset = train_test_split(data, test_size=0.25)"
      ],
      "metadata": {
        "id": "RN8iTUBnnr-c"
      },
      "execution_count": 14,
      "outputs": []
    },
    {
      "cell_type": "code",
      "source": [
        "# Build a collaborative filtering model using SVD\n",
        "model = SVD(n_factors=100, biased=True, random_state=42)\n",
        "\n",
        "# Train the model using the train set\n",
        "model.fit(trainset)"
      ],
      "metadata": {
        "colab": {
          "base_uri": "https://localhost:8080/"
        },
        "id": "tj31cipPnsDl",
        "outputId": "d1dbe58b-f80e-4ad2-bf43-89152e76c2f6"
      },
      "execution_count": 15,
      "outputs": [
        {
          "output_type": "execute_result",
          "data": {
            "text/plain": [
              "<surprise.prediction_algorithms.matrix_factorization.SVD at 0x7f163b7d36d0>"
            ]
          },
          "metadata": {},
          "execution_count": 15
        }
      ]
    },
    {
      "cell_type": "code",
      "source": [
        "# Get movie recommendations for a given user\n",
        "def get_recommendations(user_id, num_recommendations=10):\n",
        "    # Create a list of all movie IDs\n",
        "    movie_ids = df['item_id'].unique().tolist()\n",
        "\n",
        "    # Remove the movies that the user has already rated\n",
        "    rated_movies = df.loc[df['user_id'] == user_id]['item_id'].tolist()\n",
        "    unrated_movies = list(set(movie_ids) - set(rated_movies))\n",
        "\n",
        "    # Randomly select a subset of unrated movies for efficiency\n",
        "    random.shuffle(unrated_movies)\n",
        "    unrated_movies = unrated_movies[:500]\n",
        "\n",
        "    # Create a list of (movie ID, predicted rating) tuples\n",
        "    predictions = []\n",
        "    for movie_id in unrated_movies:\n",
        "        rating = model.predict(user_id, movie_id).est\n",
        "        predictions.append((movie_id, rating))\n",
        "\n",
        "    # Sort the list by predicted rating in descending order\n",
        "    predictions.sort(key=lambda x: x[1], reverse=True)\n",
        "\n",
        "    # Return the top N recommendations\n",
        "    return predictions[:num_recommendations]"
      ],
      "metadata": {
        "id": "9t1oq5MInsGP"
      },
      "execution_count": 16,
      "outputs": []
    },
    {
      "cell_type": "code",
      "source": [
        "import random\n",
        "\n",
        "# Example usage: Get 10 movie recommendations for user 42\n",
        "recommendations = get_recommendations(42, num_recommendations=10)\n",
        "for movie_id, rating in recommendations:\n",
        "    print(f\"Movie ID: {movie_id}, Predicted Rating: {rating}\")"
      ],
      "metadata": {
        "colab": {
          "base_uri": "https://localhost:8080/"
        },
        "id": "GuCDD4zdnsJz",
        "outputId": "c865fe05-7a99-47d5-9f80-1955f529049f"
      },
      "execution_count": 18,
      "outputs": [
        {
          "output_type": "stream",
          "name": "stdout",
          "text": [
            "Movie ID: 22, Predicted Rating: 4.793605910148957\n",
            "Movie ID: 114, Predicted Rating: 4.769533659464468\n",
            "Movie ID: 408, Predicted Rating: 4.720281438899912\n",
            "Movie ID: 169, Predicted Rating: 4.631806221793472\n",
            "Movie ID: 302, Predicted Rating: 4.53592171240483\n",
            "Movie ID: 513, Predicted Rating: 4.394414194649806\n",
            "Movie ID: 527, Predicted Rating: 4.390770206731454\n",
            "Movie ID: 257, Predicted Rating: 4.322371605953737\n",
            "Movie ID: 166, Predicted Rating: 4.314432548385652\n",
            "Movie ID: 285, Predicted Rating: 4.306156373374457\n"
          ]
        }
      ]
    }
  ]
}